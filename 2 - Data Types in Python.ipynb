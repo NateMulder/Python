{
 "cells": [
  {
   "cell_type": "markdown",
   "id": "43dcfb16",
   "metadata": {},
   "source": [
    "This notebook will showcase my mastery of Numerics, Booleans, Strings, Lists, Sets, Tuples, and Dictionaries.\n",
    "I begin with numerics."
   ]
  },
  {
   "cell_type": "markdown",
   "id": "9a2e1bb2",
   "metadata": {},
   "source": [
    "# Numerics\n",
    "There are three major numeric data types, as shown below:\n",
    "    Integers\n",
    "    Floats\n",
    "    Complex (used for imiginary numbers, and much less common)"
   ]
  },
  {
   "cell_type": "code",
   "execution_count": 3,
   "id": "189c4233",
   "metadata": {},
   "outputs": [
    {
     "data": {
      "text/plain": [
       "int"
      ]
     },
     "execution_count": 3,
     "metadata": {},
     "output_type": "execute_result"
    }
   ],
   "source": [
    "type(-12)"
   ]
  },
  {
   "cell_type": "code",
   "execution_count": 4,
   "id": "3bc1f34d",
   "metadata": {},
   "outputs": [
    {
     "data": {
      "text/plain": [
       "float"
      ]
     },
     "execution_count": 4,
     "metadata": {},
     "output_type": "execute_result"
    }
   ],
   "source": [
    "type (12 * 12.25)"
   ]
  },
  {
   "cell_type": "code",
   "execution_count": 5,
   "id": "5cdb6c86",
   "metadata": {},
   "outputs": [
    {
     "data": {
      "text/plain": [
       "complex"
      ]
     },
     "execution_count": 5,
     "metadata": {},
     "output_type": "execute_result"
    }
   ],
   "source": [
    "type (8 + 3j)"
   ]
  },
  {
   "cell_type": "markdown",
   "id": "ad94b44a",
   "metadata": {},
   "source": [
    "# Booleans\n",
    "Boolean values only include the value true (1), or false (0)."
   ]
  },
  {
   "cell_type": "code",
   "execution_count": 6,
   "id": "38dfb2d7",
   "metadata": {},
   "outputs": [
    {
     "data": {
      "text/plain": [
       "bool"
      ]
     },
     "execution_count": 6,
     "metadata": {},
     "output_type": "execute_result"
    }
   ],
   "source": [
    "type(1 > 5)"
   ]
  },
  {
   "cell_type": "code",
   "execution_count": 7,
   "id": "6838ef1b",
   "metadata": {},
   "outputs": [
    {
     "data": {
      "text/plain": [
       "False"
      ]
     },
     "execution_count": 7,
     "metadata": {},
     "output_type": "execute_result"
    }
   ],
   "source": [
    "1 > 5"
   ]
  },
  {
   "cell_type": "code",
   "execution_count": 9,
   "id": "3cd543c3",
   "metadata": {},
   "outputs": [
    {
     "data": {
      "text/plain": [
       "bool"
      ]
     },
     "execution_count": 9,
     "metadata": {},
     "output_type": "execute_result"
    }
   ],
   "source": [
    "type (1 == 1)"
   ]
  },
  {
   "cell_type": "code",
   "execution_count": 8,
   "id": "bed246f3",
   "metadata": {},
   "outputs": [
    {
     "data": {
      "text/plain": [
       "True"
      ]
     },
     "execution_count": 8,
     "metadata": {},
     "output_type": "execute_result"
    }
   ],
   "source": [
    "1  == 1"
   ]
  },
  {
   "cell_type": "markdown",
   "id": "512c0608",
   "metadata": {},
   "source": [
    "# Strings\n",
    "Strings are sequences of characters that represent unicode characters.  They can be stationed in between single, double, or triple quotes"
   ]
  },
  {
   "cell_type": "code",
   "execution_count": 10,
   "id": "73669276",
   "metadata": {},
   "outputs": [
    {
     "data": {
      "text/plain": [
       "'Coraline'"
      ]
     },
     "execution_count": 10,
     "metadata": {},
     "output_type": "execute_result"
    }
   ],
   "source": [
    "'Coraline'"
   ]
  },
  {
   "cell_type": "code",
   "execution_count": 12,
   "id": "aa4c8128",
   "metadata": {},
   "outputs": [
    {
     "data": {
      "text/plain": [
       "'Coraline'"
      ]
     },
     "execution_count": 12,
     "metadata": {},
     "output_type": "execute_result"
    }
   ],
   "source": [
    "\"Coraline\""
   ]
  },
  {
   "cell_type": "code",
   "execution_count": 21,
   "id": "a5452644",
   "metadata": {},
   "outputs": [],
   "source": [
    "multiline =\"\"\"\n",
    "Coraline\n",
    "is my\n",
    "favorite movie\n",
    "\"\"\""
   ]
  },
  {
   "cell_type": "code",
   "execution_count": 22,
   "id": "3726994b",
   "metadata": {},
   "outputs": [
    {
     "name": "stdout",
     "output_type": "stream",
     "text": [
      "\n",
      "Coraline\n",
      "is my\n",
      "favorite movie\n",
      "\n"
     ]
    }
   ],
   "source": [
    "print(multiline)"
   ]
  },
  {
   "cell_type": "markdown",
   "id": "cb1b7fdc",
   "metadata": {},
   "source": [
    "Doublequotes allow you to use single quotes within your string"
   ]
  },
  {
   "cell_type": "code",
   "execution_count": 23,
   "id": "35fa445d",
   "metadata": {},
   "outputs": [
    {
     "data": {
      "text/plain": [
       "\"I've always wanted to watch Coraline with my wife\""
      ]
     },
     "execution_count": 23,
     "metadata": {},
     "output_type": "execute_result"
    }
   ],
   "source": [
    "\"I've always wanted to watch Coraline with my wife\""
   ]
  },
  {
   "cell_type": "markdown",
   "id": "6ae8d630",
   "metadata": {},
   "source": [
    "# Indexing\n",
    "Strings are indexable, meaning they can be searched and specific elements can be found and used for new processes"
   ]
  },
  {
   "cell_type": "code",
   "execution_count": 26,
   "id": "be0dfb0e",
   "metadata": {},
   "outputs": [],
   "source": [
    "a = \"Hello World!\""
   ]
  },
  {
   "cell_type": "code",
   "execution_count": 31,
   "id": "083f7448",
   "metadata": {},
   "outputs": [
    {
     "name": "stdout",
     "output_type": "stream",
     "text": [
      "Hello\n"
     ]
    }
   ],
   "source": [
    "print(a[:5])"
   ]
  },
  {
   "cell_type": "code",
   "execution_count": 32,
   "id": "5341de74",
   "metadata": {},
   "outputs": [
    {
     "name": "stdout",
     "output_type": "stream",
     "text": [
      " World!\n"
     ]
    }
   ],
   "source": [
    "print(a[5:])"
   ]
  },
  {
   "cell_type": "code",
   "execution_count": 33,
   "id": "cfb88b75",
   "metadata": {},
   "outputs": [
    {
     "name": "stdout",
     "output_type": "stream",
     "text": [
      "llo W\n"
     ]
    }
   ],
   "source": [
    "print(a[2:7])"
   ]
  },
  {
   "cell_type": "code",
   "execution_count": 34,
   "id": "8400efb2",
   "metadata": {},
   "outputs": [
    {
     "name": "stdout",
     "output_type": "stream",
     "text": [
      "Hello World!\n"
     ]
    }
   ],
   "source": [
    "print(a[:])"
   ]
  },
  {
   "cell_type": "markdown",
   "id": "c99b9350",
   "metadata": {},
   "source": [
    "# Lists\n",
    "Lists can store series of values.  They are created using square brackets []"
   ]
  },
  {
   "cell_type": "code",
   "execution_count": 35,
   "id": "fd69bf78",
   "metadata": {},
   "outputs": [
    {
     "data": {
      "text/plain": [
       "[1, 2, 3]"
      ]
     },
     "execution_count": 35,
     "metadata": {},
     "output_type": "execute_result"
    }
   ],
   "source": [
    "[1,2,3]"
   ]
  },
  {
   "cell_type": "code",
   "execution_count": 36,
   "id": "71e8529d",
   "metadata": {},
   "outputs": [
    {
     "data": {
      "text/plain": [
       "['Cookie Dough', 'Strawberry', 'Chocolate']"
      ]
     },
     "execution_count": 36,
     "metadata": {},
     "output_type": "execute_result"
    }
   ],
   "source": [
    "[\"Cookie Dough\", \"Strawberry\", \"Chocolate\"]"
   ]
  },
  {
   "cell_type": "markdown",
   "id": "e487a3d3",
   "metadata": {},
   "source": [
    "Lists can be created within lists, and many data types can be place in lists"
   ]
  },
  {
   "cell_type": "code",
   "execution_count": 38,
   "id": "47504967",
   "metadata": {},
   "outputs": [
    {
     "data": {
      "text/plain": [
       "['Vanilla', 3, ['Scoops', 'Spoon'], True]"
      ]
     },
     "execution_count": 38,
     "metadata": {},
     "output_type": "execute_result"
    }
   ],
   "source": [
    "[\"Vanilla\", 3, ['Scoops', 'Spoon'], True]"
   ]
  },
  {
   "cell_type": "markdown",
   "id": "790bd431",
   "metadata": {},
   "source": [
    "Lists are changeable and can have items removed, added, and appended"
   ]
  },
  {
   "cell_type": "code",
   "execution_count": 40,
   "id": "23999165",
   "metadata": {},
   "outputs": [
    {
     "data": {
      "text/plain": [
       "['Cookie Dough', 'Strawberry', 'Chocolate', 'Vanilla']"
      ]
     },
     "execution_count": 40,
     "metadata": {},
     "output_type": "execute_result"
    }
   ],
   "source": [
    "ice_cream = ['Cookie Dough', 'Strawberry', 'Chocolate']\n",
    "\n",
    "ice_cream.append('Vanilla')\n",
    "\n",
    "ice_cream"
   ]
  },
  {
   "cell_type": "code",
   "execution_count": 43,
   "id": "043b1c6f",
   "metadata": {},
   "outputs": [
    {
     "data": {
      "text/plain": [
       "['Strawberry', 'Chocolate']"
      ]
     },
     "execution_count": 43,
     "metadata": {},
     "output_type": "execute_result"
    }
   ],
   "source": [
    "ice_cream = ['Cookie Dough', 'Strawberry', 'Chocolate']\n",
    "\n",
    "ice_cream.remove('Cookie Dough')\n",
    "\n",
    "ice_cream"
   ]
  },
  {
   "cell_type": "code",
   "execution_count": 46,
   "id": "42873e92",
   "metadata": {},
   "outputs": [
    {
     "data": {
      "text/plain": [
       "['Rocky Road', 'Chocolate']"
      ]
     },
     "execution_count": 46,
     "metadata": {},
     "output_type": "execute_result"
    }
   ],
   "source": [
    "ice_cream[0] = 'Rocky Road'\n",
    "\n",
    "ice_cream"
   ]
  },
  {
   "cell_type": "markdown",
   "id": "6c120157",
   "metadata": {},
   "source": [
    "Nested Lists can be indexed according to each element of the nested list"
   ]
  },
  {
   "cell_type": "code",
   "execution_count": 47,
   "id": "3d67617f",
   "metadata": {},
   "outputs": [
    {
     "data": {
      "text/plain": [
       "'Vanilla'"
      ]
     },
     "execution_count": 47,
     "metadata": {},
     "output_type": "execute_result"
    }
   ],
   "source": [
    "nested_list = [\"Vanilla\", 3, ['Scoops', 'Spoon'], True]\n",
    "\n",
    "nested_list[0]"
   ]
  },
  {
   "cell_type": "code",
   "execution_count": 48,
   "id": "e2b44d48",
   "metadata": {},
   "outputs": [
    {
     "data": {
      "text/plain": [
       "['Scoops', 'Spoon']"
      ]
     },
     "execution_count": 48,
     "metadata": {},
     "output_type": "execute_result"
    }
   ],
   "source": [
    "nested_list[2]"
   ]
  },
  {
   "cell_type": "code",
   "execution_count": 51,
   "id": "227ed998",
   "metadata": {},
   "outputs": [
    {
     "data": {
      "text/plain": [
       "'Scoops'"
      ]
     },
     "execution_count": 51,
     "metadata": {},
     "output_type": "execute_result"
    }
   ],
   "source": [
    "nested_list[2][0]"
   ]
  },
  {
   "cell_type": "markdown",
   "id": "6d15ab15",
   "metadata": {},
   "source": [
    "# Tuples\n",
    "Tuples are like lists, but they are immutable.  They can be indexed, but they cannot be modified in any way once created. They are created using round brackets ()"
   ]
  },
  {
   "cell_type": "code",
   "execution_count": 55,
   "id": "1dda0610",
   "metadata": {},
   "outputs": [
    {
     "name": "stdout",
     "output_type": "stream",
     "text": [
      "(1, 2, 3)\n"
     ]
    }
   ],
   "source": [
    "First_Tuple = (1,2,3)\n",
    "print(First_Tuple)"
   ]
  },
  {
   "cell_type": "code",
   "execution_count": 58,
   "id": "dfbb2480",
   "metadata": {},
   "outputs": [
    {
     "data": {
      "text/plain": [
       "tuple"
      ]
     },
     "execution_count": 58,
     "metadata": {},
     "output_type": "execute_result"
    }
   ],
   "source": [
    "type(First_Tuple)"
   ]
  },
  {
   "cell_type": "code",
   "execution_count": 56,
   "id": "873c8ffd",
   "metadata": {},
   "outputs": [
    {
     "data": {
      "text/plain": [
       "2"
      ]
     },
     "execution_count": 56,
     "metadata": {},
     "output_type": "execute_result"
    }
   ],
   "source": [
    "First_Tuple[1]"
   ]
  },
  {
   "cell_type": "code",
   "execution_count": 59,
   "id": "5ad673b9",
   "metadata": {},
   "outputs": [
    {
     "ename": "AttributeError",
     "evalue": "'tuple' object has no attribute 'append'",
     "output_type": "error",
     "traceback": [
      "\u001b[1;31m---------------------------------------------------------------------------\u001b[0m",
      "\u001b[1;31mAttributeError\u001b[0m                            Traceback (most recent call last)",
      "Cell \u001b[1;32mIn[59], line 1\u001b[0m\n\u001b[1;32m----> 1\u001b[0m \u001b[43mFirst_Tuple\u001b[49m\u001b[38;5;241;43m.\u001b[39;49m\u001b[43mappend\u001b[49m(\u001b[38;5;241m3\u001b[39m)\n",
      "\u001b[1;31mAttributeError\u001b[0m: 'tuple' object has no attribute 'append'"
     ]
    }
   ],
   "source": [
    "First_Tuple.append(3)"
   ]
  },
  {
   "cell_type": "markdown",
   "id": "1db185f8",
   "metadata": {},
   "source": [
    "# Sets\n",
    "Sets are like lists but they cannot include duplicate elements, and they cannot be indexed because they are not stored in a specific order."
   ]
  },
  {
   "cell_type": "code",
   "execution_count": 65,
   "id": "ef317403",
   "metadata": {},
   "outputs": [
    {
     "name": "stdout",
     "output_type": "stream",
     "text": [
      "{41, 12, 47, 80, 48, 50, 51, 57}\n"
     ]
    }
   ],
   "source": [
    "daily_pints_log = {12,41,80,51,47,57,48,12,41,80,50}\n",
    "print(daily_pints)"
   ]
  },
  {
   "cell_type": "code",
   "execution_count": 67,
   "id": "dc47bb3d",
   "metadata": {},
   "outputs": [
    {
     "data": {
      "text/plain": [
       "set"
      ]
     },
     "execution_count": 67,
     "metadata": {},
     "output_type": "execute_result"
    }
   ],
   "source": [
    "type(daily_pints_log)"
   ]
  },
  {
   "cell_type": "code",
   "execution_count": 68,
   "id": "5e5502a8",
   "metadata": {},
   "outputs": [],
   "source": [
    "coworkers_daily_pints_log = {12, 48, 51, 38, 41, 47, 112, 80}"
   ]
  },
  {
   "cell_type": "markdown",
   "id": "c0166216",
   "metadata": {},
   "source": [
    "Sets can be combined to include values from two sets, and then trimmed down to just the unique values"
   ]
  },
  {
   "cell_type": "code",
   "execution_count": 69,
   "id": "d0fd9744",
   "metadata": {},
   "outputs": [
    {
     "name": "stdout",
     "output_type": "stream",
     "text": [
      "{38, 41, 12, 47, 80, 48, 50, 51, 112, 57}\n"
     ]
    }
   ],
   "source": [
    "print(daily_pints_log | coworkers_daily_pints_log)"
   ]
  },
  {
   "cell_type": "markdown",
   "id": "2ff81972",
   "metadata": {},
   "source": [
    "It is also possible to check which values are found in both sets"
   ]
  },
  {
   "cell_type": "code",
   "execution_count": 70,
   "id": "811e760e",
   "metadata": {},
   "outputs": [
    {
     "name": "stdout",
     "output_type": "stream",
     "text": [
      "{41, 12, 47, 48, 80, 51}\n"
     ]
    }
   ],
   "source": [
    "print(daily_pints_log & coworkers_daily_pints_log)"
   ]
  },
  {
   "cell_type": "markdown",
   "id": "0f5d0d42",
   "metadata": {},
   "source": [
    "Or we can check which values are found in one set but not in another!"
   ]
  },
  {
   "cell_type": "code",
   "execution_count": 71,
   "id": "7e0ad586",
   "metadata": {},
   "outputs": [
    {
     "name": "stdout",
     "output_type": "stream",
     "text": [
      "{57, 50}\n"
     ]
    }
   ],
   "source": [
    "print(daily_pints_log - coworkers_daily_pints_log)"
   ]
  },
  {
   "cell_type": "code",
   "execution_count": 72,
   "id": "fa8c2c9c",
   "metadata": {},
   "outputs": [
    {
     "name": "stdout",
     "output_type": "stream",
     "text": [
      "{112, 38}\n"
     ]
    }
   ],
   "source": [
    "print(coworkers_daily_pints_log - daily_pints_log)"
   ]
  },
  {
   "cell_type": "code",
   "execution_count": 73,
   "id": "63ddfe8d",
   "metadata": {},
   "outputs": [
    {
     "name": "stdout",
     "output_type": "stream",
     "text": [
      "{38, 112, 50, 57}\n"
     ]
    }
   ],
   "source": [
    "print(daily_pints_log ^ coworkers_daily_pints_log)"
   ]
  },
  {
   "cell_type": "markdown",
   "id": "bc813876",
   "metadata": {},
   "source": [
    "# Dictionaries\n",
    "Dictionaries inclue key:value pairs.  They are created using squiggly brackets {}"
   ]
  },
  {
   "cell_type": "code",
   "execution_count": 82,
   "id": "3c7c8d1f",
   "metadata": {},
   "outputs": [],
   "source": [
    "dict_cream = {'Name':'Nate Mulder', 'Weekly intake': 5, 'Favorite ice creams':['Vanilla', 'Tiramisu']}"
   ]
  },
  {
   "cell_type": "code",
   "execution_count": 78,
   "id": "db6c6d07",
   "metadata": {},
   "outputs": [
    {
     "data": {
      "text/plain": [
       "dict"
      ]
     },
     "execution_count": 78,
     "metadata": {},
     "output_type": "execute_result"
    }
   ],
   "source": [
    "type(dict_cream)"
   ]
  },
  {
   "cell_type": "code",
   "execution_count": 83,
   "id": "175e3d23",
   "metadata": {},
   "outputs": [
    {
     "name": "stdout",
     "output_type": "stream",
     "text": [
      "{'Name': 'Nate Mulder', 'Weekly intake': 5, 'Favorite ice creams': ['Vanilla', 'Tiramisu']}\n"
     ]
    }
   ],
   "source": [
    "print(dict_cream)"
   ]
  },
  {
   "cell_type": "code",
   "execution_count": 84,
   "id": "50557401",
   "metadata": {},
   "outputs": [
    {
     "data": {
      "text/plain": [
       "dict_values(['Nate Mulder', 5, ['Vanilla', 'Tiramisu']])"
      ]
     },
     "execution_count": 84,
     "metadata": {},
     "output_type": "execute_result"
    }
   ],
   "source": [
    "dict_cream.values()"
   ]
  },
  {
   "cell_type": "code",
   "execution_count": 85,
   "id": "1d7fb115",
   "metadata": {},
   "outputs": [
    {
     "data": {
      "text/plain": [
       "dict_keys(['Name', 'Weekly intake', 'Favorite ice creams'])"
      ]
     },
     "execution_count": 85,
     "metadata": {},
     "output_type": "execute_result"
    }
   ],
   "source": [
    "dict_cream.keys()"
   ]
  },
  {
   "cell_type": "code",
   "execution_count": 86,
   "id": "7a1d20c8",
   "metadata": {},
   "outputs": [
    {
     "data": {
      "text/plain": [
       "dict_items([('Name', 'Nate Mulder'), ('Weekly intake', 5), ('Favorite ice creams', ['Vanilla', 'Tiramisu'])])"
      ]
     },
     "execution_count": 86,
     "metadata": {},
     "output_type": "execute_result"
    }
   ],
   "source": [
    "dict_cream.items()"
   ]
  },
  {
   "cell_type": "markdown",
   "id": "923e52fe",
   "metadata": {},
   "source": [
    "You cannot use commands like dict_cream[0] to index a dictionary, but you can search it by key"
   ]
  },
  {
   "cell_type": "code",
   "execution_count": 88,
   "id": "20a40d96",
   "metadata": {},
   "outputs": [
    {
     "data": {
      "text/plain": [
       "'Nate Mulder'"
      ]
     },
     "execution_count": 88,
     "metadata": {},
     "output_type": "execute_result"
    }
   ],
   "source": [
    "dict_cream['Name']"
   ]
  },
  {
   "cell_type": "markdown",
   "id": "d53409d5",
   "metadata": {},
   "source": [
    "Values in dictionaries can be edited"
   ]
  },
  {
   "cell_type": "code",
   "execution_count": 90,
   "id": "8563578a",
   "metadata": {},
   "outputs": [],
   "source": [
    "dict_cream['Name'] = 'Andy Samberg'"
   ]
  },
  {
   "cell_type": "code",
   "execution_count": 91,
   "id": "d5b20769",
   "metadata": {},
   "outputs": [
    {
     "name": "stdout",
     "output_type": "stream",
     "text": [
      "{'Name': 'Andy Samberg', 'Weekly intake': 5, 'Favorite ice creams': ['Vanilla', 'Tiramisu']}\n"
     ]
    }
   ],
   "source": [
    "print(dict_cream)"
   ]
  },
  {
   "cell_type": "markdown",
   "id": "1ef7da60",
   "metadata": {},
   "source": [
    "The .update and del commands are useful for editing dictionaries"
   ]
  },
  {
   "cell_type": "code",
   "execution_count": 94,
   "id": "b12a1844",
   "metadata": {},
   "outputs": [
    {
     "name": "stdout",
     "output_type": "stream",
     "text": [
      "{'Name': 'Norman Rockwell', 'Weekly intake': 7, 'Favorite ice creams': ['Vanilla', 'Tiramisu'], 'Weight': 300}\n"
     ]
    }
   ],
   "source": [
    "dict_cream.update({'Name':'Norman Rockwell', 'Weekly intake': 7, 'Weight':300})\n",
    "print(dict_cream)"
   ]
  },
  {
   "cell_type": "code",
   "execution_count": 96,
   "id": "4981934d",
   "metadata": {},
   "outputs": [
    {
     "name": "stdout",
     "output_type": "stream",
     "text": [
      "{'Name': 'Norman Rockwell', 'Weekly intake': 7, 'Favorite ice creams': ['Vanilla', 'Tiramisu']}\n"
     ]
    }
   ],
   "source": [
    "del dict_cream['Weight']\n",
    "\n",
    "print(dict_cream)"
   ]
  },
  {
   "cell_type": "code",
   "execution_count": null,
   "id": "7f3c2480",
   "metadata": {},
   "outputs": [],
   "source": []
  }
 ],
 "metadata": {
  "kernelspec": {
   "display_name": "Python 3 (ipykernel)",
   "language": "python",
   "name": "python3"
  },
  "language_info": {
   "codemirror_mode": {
    "name": "ipython",
    "version": 3
   },
   "file_extension": ".py",
   "mimetype": "text/x-python",
   "name": "python",
   "nbconvert_exporter": "python",
   "pygments_lexer": "ipython3",
   "version": "3.10.9"
  }
 },
 "nbformat": 4,
 "nbformat_minor": 5
}
