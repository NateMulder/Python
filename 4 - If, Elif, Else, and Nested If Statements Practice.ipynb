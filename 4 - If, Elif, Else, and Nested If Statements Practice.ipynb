{
 "cells": [
  {
   "cell_type": "markdown",
   "id": "9f054fc1",
   "metadata": {},
   "source": [
    "This notebook contains my practice using If, Elif, and Else statements"
   ]
  },
  {
   "cell_type": "code",
   "execution_count": 3,
   "id": "879c501a",
   "metadata": {},
   "outputs": [
    {
     "name": "stdout",
     "output_type": "stream",
     "text": [
      "it worked!\n"
     ]
    }
   ],
   "source": [
    "if 25 > 10:\n",
    "    print(\"it worked!\")"
   ]
  },
  {
   "cell_type": "code",
   "execution_count": 4,
   "id": "1b8b5cb9",
   "metadata": {},
   "outputs": [
    {
     "name": "stdout",
     "output_type": "stream",
     "text": [
      "it did not work...\n"
     ]
    }
   ],
   "source": [
    "if 25 < 10:\n",
    "    print('it worked!')\n",
    "else:\n",
    "    print('it did not work...')"
   ]
  },
  {
   "cell_type": "code",
   "execution_count": 6,
   "id": "c78dec07",
   "metadata": {},
   "outputs": [
    {
     "name": "stdout",
     "output_type": "stream",
     "text": [
      "elif 3 worked!\n"
     ]
    }
   ],
   "source": [
    "if 25 < 10:\n",
    "    print('It worked!')\n",
    "elif 25 < 3:\n",
    "    print('elif worked!')\n",
    "elif 25 < 21:\n",
    "    print('elif 2 worked!')\n",
    "elif 25 < 40:\n",
    "    print('elif 3 worked!')\n",
    "else:\n",
    "    print('it did not work...')"
   ]
  },
  {
   "cell_type": "code",
   "execution_count": 7,
   "id": "59e8ebc1",
   "metadata": {},
   "outputs": [
    {
     "name": "stdout",
     "output_type": "stream",
     "text": [
      "it did not work...\n"
     ]
    }
   ],
   "source": [
    "print('It worked') if 10>30 else print('it did not work...')"
   ]
  },
  {
   "cell_type": "code",
   "execution_count": 8,
   "id": "fd49af87",
   "metadata": {},
   "outputs": [
    {
     "name": "stdout",
     "output_type": "stream",
     "text": [
      "It worked!\n",
      "This nested if statement worked!\n"
     ]
    }
   ],
   "source": [
    "if (25 < 10) or (1 < 3):\n",
    "    print('It worked!')\n",
    "    if 10 > 5:\n",
    "            print('This nested if statement worked!')\n",
    "elif 25 < 3:\n",
    "    print('elif worked!')\n",
    "elif 25 < 21:\n",
    "    print('elif 2 worked!')\n",
    "elif 25 < 40:\n",
    "    print('elif 3 worked!')\n",
    "else:\n",
    "    print('it did not work...')"
   ]
  }
 ],
 "metadata": {
  "kernelspec": {
   "display_name": "Python 3 (ipykernel)",
   "language": "python",
   "name": "python3"
  },
  "language_info": {
   "codemirror_mode": {
    "name": "ipython",
    "version": 3
   },
   "file_extension": ".py",
   "mimetype": "text/x-python",
   "name": "python",
   "nbconvert_exporter": "python",
   "pygments_lexer": "ipython3",
   "version": "3.10.9"
  }
 },
 "nbformat": 4,
 "nbformat_minor": 5
}
