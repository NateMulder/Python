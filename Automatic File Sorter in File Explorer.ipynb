{
 "cells": [
  {
   "cell_type": "markdown",
   "id": "3aa5e019",
   "metadata": {},
   "source": [
    "# Automatic File Sorter in File Explorer\n",
    "This project creates folders for five different file types on my computer, identifies the file types of documents in the folder, and correctly sorts them into new folders by type."
   ]
  },
  {
   "cell_type": "code",
   "execution_count": 31,
   "id": "4e94d458",
   "metadata": {},
   "outputs": [],
   "source": [
    "import os, shutil"
   ]
  },
  {
   "cell_type": "code",
   "execution_count": 32,
   "id": "879aa2ed",
   "metadata": {},
   "outputs": [],
   "source": [
    "path = r\"C:\\Users\\natee\\OneDrive\\Desktop\\Tableau Materials/\""
   ]
  },
  {
   "cell_type": "code",
   "execution_count": 33,
   "id": "15df5a01",
   "metadata": {},
   "outputs": [],
   "source": [
    "file_name = os.listdir(path)"
   ]
  },
  {
   "cell_type": "code",
   "execution_count": 34,
   "id": "cb7ea86a",
   "metadata": {},
   "outputs": [],
   "source": [
    "folder_names = ['csv files', 'twb files', 'twbx files', 'hyper files', 'xlsx.url files']\n",
    "\n",
    "for loop in range(0,5):\n",
    "    if not os.path.exists(path + folder_names[loop]):\n",
    "        os.makedirs((path + folder_names[loop]))"
   ]
  },
  {
   "cell_type": "code",
   "execution_count": 35,
   "id": "132d7c82",
   "metadata": {},
   "outputs": [
    {
     "name": "stdout",
     "output_type": "stream",
     "text": [
      ".csv files sorted\n",
      ".twb files sorted\n",
      ".twb files sorted\n",
      ".twb files sorted\n",
      ".csv files sorted\n",
      ".csv files sorted\n",
      ".hyper files sorted\n",
      ".xlsx.url files sorted\n",
      ".csv files sorted\n",
      ".hyper files sorted\n",
      ".csv files sorted\n",
      ".hyper files sorted\n",
      ".csv files sorted\n",
      ".hyper files sorted\n"
     ]
    }
   ],
   "source": [
    "for file in file_name:\n",
    "    if \".csv\" in file and not os.path.exists(path + \"csv files/\" + file):\n",
    "        shutil.move(path + file, path + \"csv files/\" + file)\n",
    "        print(\".csv files sorted\")\n",
    "    elif \".twb\" in file and not os.path.exists(path + \"twb files/\" + file):\n",
    "        shutil.move(path + file, path + \"twb files/\" + file)\n",
    "        print(\".twb files sorted\")\n",
    "    elif \".twbx\" in file and not os.path.exists(path + \"twbx files/\" + file):\n",
    "        shutil.move(path + file, path + \"twbx files/\" + file)\n",
    "        print(\".twbx files sorted\")\n",
    "    elif \".hyper\" in file and not os.path.exists(path + \"hyper files/\" + file):\n",
    "        shutil.move(path + file, path + \"hyper files/\" + file)\n",
    "        print(\".hyper files sorted\")\n",
    "    elif \".xlsx.url\" in file and not os.path.exists(path + \"xlsx.url files/\" + file):\n",
    "        shutil.move(path + file, path + \"xlsx.url files/\" + file)\n",
    "        print(\".xlsx.url files sorted\")"
   ]
  }
 ],
 "metadata": {
  "kernelspec": {
   "display_name": "Python 3 (ipykernel)",
   "language": "python",
   "name": "python3"
  },
  "language_info": {
   "codemirror_mode": {
    "name": "ipython",
    "version": 3
   },
   "file_extension": ".py",
   "mimetype": "text/x-python",
   "name": "python",
   "nbconvert_exporter": "python",
   "pygments_lexer": "ipython3",
   "version": "3.10.9"
  }
 },
 "nbformat": 4,
 "nbformat_minor": 5
}
