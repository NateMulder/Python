{
 "cells": [
  {
   "cell_type": "markdown",
   "id": "83bbda9c",
   "metadata": {},
   "source": [
    "The purspose of this notebook is to demonstrate my understaning of variables and their characteristics in Python\n",
    "\n",
    "I begin by assigning int and str values, and showing how they can be reassigned and printed"
   ]
  },
  {
   "cell_type": "code",
   "execution_count": 4,
   "id": "491efffd",
   "metadata": {},
   "outputs": [
    {
     "name": "stdout",
     "output_type": "stream",
     "text": [
      "22\n"
     ]
    }
   ],
   "source": [
    "x = 22\n",
    "\n",
    "print(x)"
   ]
  },
  {
   "cell_type": "code",
   "execution_count": 6,
   "id": "1b7baf08",
   "metadata": {},
   "outputs": [
    {
     "data": {
      "text/plain": [
       "int"
      ]
     },
     "execution_count": 6,
     "metadata": {},
     "output_type": "execute_result"
    }
   ],
   "source": [
    "type(x)"
   ]
  },
  {
   "cell_type": "code",
   "execution_count": 8,
   "id": "0389f48e",
   "metadata": {},
   "outputs": [
    {
     "name": "stdout",
     "output_type": "stream",
     "text": [
      "My Beautiful Wife Rachel\n"
     ]
    }
   ],
   "source": [
    "y = 'My Beautiful Wife Rachel'\n",
    "\n",
    "print(y)"
   ]
  },
  {
   "cell_type": "code",
   "execution_count": 9,
   "id": "09d4a11e",
   "metadata": {},
   "outputs": [
    {
     "data": {
      "text/plain": [
       "str"
      ]
     },
     "execution_count": 9,
     "metadata": {},
     "output_type": "execute_result"
    }
   ],
   "source": [
    "type(y)"
   ]
  },
  {
   "cell_type": "code",
   "execution_count": 11,
   "id": "bb4b69ae",
   "metadata": {},
   "outputs": [
    {
     "name": "stdout",
     "output_type": "stream",
     "text": [
      "Myself\n"
     ]
    }
   ],
   "source": [
    "y = \"Myself\"\n",
    "\n",
    "print(y)"
   ]
  },
  {
   "cell_type": "code",
   "execution_count": 13,
   "id": "0b0cd490",
   "metadata": {},
   "outputs": [
    {
     "name": "stdout",
     "output_type": "stream",
     "text": [
      "Yellow Blue Red\n"
     ]
    }
   ],
   "source": [
    "x,y,z = 'Red','Blue','Yellow'\n",
    "\n",
    "print(z,y,x)"
   ]
  },
  {
   "cell_type": "code",
   "execution_count": 14,
   "id": "79c68951",
   "metadata": {},
   "outputs": [
    {
     "name": "stdout",
     "output_type": "stream",
     "text": [
      "Mount Fuji\n",
      "Mount Fuji\n",
      "Mount Fuji\n"
     ]
    }
   ],
   "source": [
    "x = y = z = 'Mount Fuji'\n",
    "\n",
    "print(x)\n",
    "print(y)\n",
    "print(z)"
   ]
  },
  {
   "cell_type": "markdown",
   "id": "9d4eadc7",
   "metadata": {},
   "source": [
    "Next I create a list variable"
   ]
  },
  {
   "cell_type": "code",
   "execution_count": 16,
   "id": "38745d58",
   "metadata": {},
   "outputs": [
    {
     "name": "stdout",
     "output_type": "stream",
     "text": [
      "['chocolate', 'vanilla', 'rocky road']\n"
     ]
    }
   ],
   "source": [
    "ice_cream = ['chocolate','vanilla','rocky road']\n",
    "print(ice_cream)"
   ]
  },
  {
   "cell_type": "markdown",
   "id": "c2bdfdf6",
   "metadata": {},
   "source": [
    "I demonstrate how operaters can be applied to integers"
   ]
  },
  {
   "cell_type": "code",
   "execution_count": 17,
   "id": "2569085b",
   "metadata": {},
   "outputs": [
    {
     "data": {
      "text/plain": [
       "73"
      ]
     },
     "execution_count": 17,
     "metadata": {},
     "output_type": "execute_result"
    }
   ],
   "source": [
    "a = 23\n",
    "b = 50\n",
    "a + b"
   ]
  },
  {
   "cell_type": "code",
   "execution_count": 18,
   "id": "116065c6",
   "metadata": {},
   "outputs": [
    {
     "data": {
      "text/plain": [
       "40.0"
      ]
     },
     "execution_count": 18,
     "metadata": {},
     "output_type": "execute_result"
    }
   ],
   "source": [
    "a = 80\n",
    "b = 2\n",
    "a/b"
   ]
  },
  {
   "cell_type": "code",
   "execution_count": 19,
   "id": "e7dd9fb6",
   "metadata": {},
   "outputs": [
    {
     "data": {
      "text/plain": [
       "672"
      ]
     },
     "execution_count": 19,
     "metadata": {},
     "output_type": "execute_result"
    }
   ],
   "source": [
    "a = 24\n",
    "b = 28\n",
    "a*b"
   ]
  },
  {
   "cell_type": "code",
   "execution_count": 20,
   "id": "334b2502",
   "metadata": {},
   "outputs": [
    {
     "data": {
      "text/plain": [
       "-27"
      ]
     },
     "execution_count": 20,
     "metadata": {},
     "output_type": "execute_result"
    }
   ],
   "source": [
    "a = 23\n",
    "b = 50\n",
    "a-b"
   ]
  },
  {
   "cell_type": "markdown",
   "id": "a725d75a",
   "metadata": {},
   "source": [
    "And how operators can be applied to strings"
   ]
  },
  {
   "cell_type": "code",
   "execution_count": 26,
   "id": "6ac5ac70",
   "metadata": {},
   "outputs": [
    {
     "name": "stdout",
     "output_type": "stream",
     "text": [
      "vanilla is my favorite flavor.\n"
     ]
    }
   ],
   "source": [
    "x = 'vanilla is my favorite' + ' flavor.'\n",
    "print(x)"
   ]
  },
  {
   "cell_type": "code",
   "execution_count": 29,
   "id": "457de6f6",
   "metadata": {},
   "outputs": [
    {
     "data": {
      "text/plain": [
       "'vanilla is my favorite flavor'"
      ]
     },
     "execution_count": 29,
     "metadata": {},
     "output_type": "execute_result"
    }
   ],
   "source": [
    "x = 'vanilla '\n",
    "y = 'is my favorite '\n",
    "z = 'flavor'\n",
    "x+y+z"
   ]
  },
  {
   "cell_type": "code",
   "execution_count": null,
   "id": "5475c43e",
   "metadata": {},
   "outputs": [],
   "source": []
  }
 ],
 "metadata": {
  "kernelspec": {
   "display_name": "Python 3 (ipykernel)",
   "language": "python",
   "name": "python3"
  },
  "language_info": {
   "codemirror_mode": {
    "name": "ipython",
    "version": 3
   },
   "file_extension": ".py",
   "mimetype": "text/x-python",
   "name": "python",
   "nbconvert_exporter": "python",
   "pygments_lexer": "ipython3",
   "version": "3.10.9"
  }
 },
 "nbformat": 4,
 "nbformat_minor": 5
}
