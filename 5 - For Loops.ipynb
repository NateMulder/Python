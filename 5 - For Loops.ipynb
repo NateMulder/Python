{
 "cells": [
  {
   "cell_type": "markdown",
   "id": "3950deeb",
   "metadata": {},
   "source": [
    "# For Loops\n",
    "For loops are used to iterate over a sequence, whether that is a list, a tuple, an array or a dictionary."
   ]
  },
  {
   "cell_type": "code",
   "execution_count": 1,
   "id": "7f095438",
   "metadata": {},
   "outputs": [],
   "source": [
    "integers = [1,2,3,4,5]"
   ]
  },
  {
   "cell_type": "code",
   "execution_count": 2,
   "id": "8e7a4f00",
   "metadata": {},
   "outputs": [
    {
     "name": "stdout",
     "output_type": "stream",
     "text": [
      "1\n",
      "2\n",
      "3\n",
      "4\n",
      "5\n"
     ]
    }
   ],
   "source": [
    "for number in integers:\n",
    "    print(number)"
   ]
  },
  {
   "cell_type": "code",
   "execution_count": 3,
   "id": "7211c592",
   "metadata": {},
   "outputs": [
    {
     "name": "stdout",
     "output_type": "stream",
     "text": [
      "hello there\n",
      "hello there\n",
      "hello there\n",
      "hello there\n",
      "hello there\n"
     ]
    }
   ],
   "source": [
    "for number in integers:\n",
    "    print('hello there')"
   ]
  },
  {
   "cell_type": "code",
   "execution_count": 5,
   "id": "ac2a25f6",
   "metadata": {},
   "outputs": [
    {
     "name": "stdout",
     "output_type": "stream",
     "text": [
      "2\n",
      "4\n",
      "6\n",
      "8\n",
      "10\n"
     ]
    }
   ],
   "source": [
    "for Variable in integers:\n",
    "    print(Variable + Variable)"
   ]
  },
  {
   "cell_type": "code",
   "execution_count": 6,
   "id": "4ef35971",
   "metadata": {},
   "outputs": [
    {
     "name": "stdout",
     "output_type": "stream",
     "text": [
      "False\n",
      "False\n",
      "False\n",
      "False\n",
      "False\n"
     ]
    }
   ],
   "source": [
    "for Variable in integers:\n",
    "    print(Variable > Variable)"
   ]
  },
  {
   "cell_type": "code",
   "execution_count": 10,
   "id": "b2a74158",
   "metadata": {},
   "outputs": [],
   "source": [
    "Ice_cream_dict = {'name': 'Nate Mulder', 'weekly intake': 5, 'favorite flavors': ['Pistachio', 'Tiramisu',]}"
   ]
  },
  {
   "cell_type": "code",
   "execution_count": 11,
   "id": "f0abc209",
   "metadata": {},
   "outputs": [
    {
     "name": "stdout",
     "output_type": "stream",
     "text": [
      "Nate Mulder\n",
      "5\n",
      "['Pistachio', 'Tiramisu']\n"
     ]
    }
   ],
   "source": [
    "for cream in Ice_cream_dict.values():\n",
    "    print(cream)"
   ]
  },
  {
   "cell_type": "code",
   "execution_count": 17,
   "id": "0fc8f2b7",
   "metadata": {},
   "outputs": [
    {
     "name": "stdout",
     "output_type": "stream",
     "text": [
      "name -> Nate Mulder\n",
      "weekly intake -> 5\n",
      "favorite flavors -> ['Pistachio', 'Tiramisu']\n"
     ]
    }
   ],
   "source": [
    "for key, value in Ice_cream_dict.items():\n",
    "    print(key, '->', value)"
   ]
  },
  {
   "cell_type": "markdown",
   "id": "b447a773",
   "metadata": {},
   "source": [
    "# Nested For Loops"
   ]
  },
  {
   "cell_type": "code",
   "execution_count": 18,
   "id": "48180a38",
   "metadata": {},
   "outputs": [],
   "source": [
    "flavors = ['Vanilla', 'Chocolate', 'Cookie Dough']\n",
    "toppings = ['Hot Fudge', 'Oreos', 'Marshmallows']"
   ]
  },
  {
   "cell_type": "code",
   "execution_count": 21,
   "id": "533cae23",
   "metadata": {},
   "outputs": [
    {
     "name": "stdout",
     "output_type": "stream",
     "text": [
      "Vanilla topped with Hot Fudge\n",
      "Vanilla topped with Oreos\n",
      "Vanilla topped with Marshmallows\n",
      "Chocolate topped with Hot Fudge\n",
      "Chocolate topped with Oreos\n",
      "Chocolate topped with Marshmallows\n",
      "Cookie Dough topped with Hot Fudge\n",
      "Cookie Dough topped with Oreos\n",
      "Cookie Dough topped with Marshmallows\n"
     ]
    }
   ],
   "source": [
    "for one in flavors:\n",
    "    for two in toppings:\n",
    "        print(one, \"topped with\", two)"
   ]
  }
 ],
 "metadata": {
  "kernelspec": {
   "display_name": "Python 3 (ipykernel)",
   "language": "python",
   "name": "python3"
  },
  "language_info": {
   "codemirror_mode": {
    "name": "ipython",
    "version": 3
   },
   "file_extension": ".py",
   "mimetype": "text/x-python",
   "name": "python",
   "nbconvert_exporter": "python",
   "pygments_lexer": "ipython3",
   "version": "3.10.9"
  }
 },
 "nbformat": 4,
 "nbformat_minor": 5
}
