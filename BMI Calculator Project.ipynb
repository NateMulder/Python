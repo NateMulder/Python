{
 "cells": [
  {
   "cell_type": "markdown",
   "id": "9d1b613f",
   "metadata": {},
   "source": [
    "# BMI Calculator"
   ]
  },
  {
   "cell_type": "code",
   "execution_count": 8,
   "id": "a3641947",
   "metadata": {},
   "outputs": [
    {
     "name": "stdout",
     "output_type": "stream",
     "text": [
      "Enter your name: Nate\n",
      "Enter your weight in pounds: 165\n",
      "Enter your height in inches: 71\n",
      "Name:  Nate\n",
      "BMI:  23.01031541360841\n"
     ]
    }
   ],
   "source": [
    "name = input(\"Enter your name: \")\n",
    "\n",
    "weight = int(input(\"Enter your weight in pounds: \"))\n",
    "\n",
    "height =int(input(\"Enter your height in inches: \"))\n",
    "\n",
    "BMI = (weight * 703) / (height * height)\n",
    "\n",
    "print('Name: ', name)\n",
    "print('BMI: ',BMI)"
   ]
  },
  {
   "cell_type": "code",
   "execution_count": 14,
   "id": "c5a62a9a",
   "metadata": {},
   "outputs": [
    {
     "name": "stdout",
     "output_type": "stream",
     "text": [
      "Nate, Your BMI shows you are in the normal weight range.\n"
     ]
    }
   ],
   "source": [
    "if BMI>0:\n",
    "    if(BMI<18.5):\n",
    "        print(name + ', Your BMI shows that you are underweight.')\n",
    "    elif(BMI<=24.9):\n",
    "        print(name + ', Your BMI shows you are in the normal weight range.')\n",
    "    elif(BMI<29.9):\n",
    "        print(name + ', Your BMI shows you are in the overweight range.')\n",
    "    elif(BMI<34.9):\n",
    "        print(name + ', Your BMI shows that you are in the obese range')\n",
    "    elif(BMI<39.9):\n",
    "        print(name + ', Your BMI shows that you are in the severely obese range')\n",
    "    elif(BMI >40):\n",
    "        print(name + ', Your BMI shows you are in the morbidly obese range')\n",
    "    else:\n",
    "        print(name + ', Please enter a valid BMI number.')"
   ]
  },
  {
   "cell_type": "code",
   "execution_count": null,
   "id": "aab95df5",
   "metadata": {},
   "outputs": [],
   "source": []
  }
 ],
 "metadata": {
  "kernelspec": {
   "display_name": "Python 3 (ipykernel)",
   "language": "python",
   "name": "python3"
  },
  "language_info": {
   "codemirror_mode": {
    "name": "ipython",
    "version": 3
   },
   "file_extension": ".py",
   "mimetype": "text/x-python",
   "name": "python",
   "nbconvert_exporter": "python",
   "pygments_lexer": "ipython3",
   "version": "3.10.9"
  }
 },
 "nbformat": 4,
 "nbformat_minor": 5
}
