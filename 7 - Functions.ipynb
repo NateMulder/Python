{
 "cells": [
  {
   "cell_type": "markdown",
   "id": "0fafc1f5",
   "metadata": {},
   "source": [
    "# Functions\n",
    "This is a workspace where I practice and demonstrate the use of simple functions in python"
   ]
  },
  {
   "cell_type": "code",
   "execution_count": 3,
   "id": "a64739c6",
   "metadata": {},
   "outputs": [
    {
     "name": "stdout",
     "output_type": "stream",
     "text": [
      "my first function\n"
     ]
    }
   ],
   "source": [
    "def function():\n",
    "    print('my first function')\n",
    "    \n",
    "function()"
   ]
  },
  {
   "cell_type": "code",
   "execution_count": 8,
   "id": "b385b937",
   "metadata": {},
   "outputs": [
    {
     "name": "stdout",
     "output_type": "stream",
     "text": [
      "16\n",
      "10000\n"
     ]
    }
   ],
   "source": [
    "def number_squared(number):\n",
    "    print(number**2)\n",
    "\n",
    "number_squared(4)\n",
    "number_squared(100)"
   ]
  },
  {
   "cell_type": "code",
   "execution_count": 9,
   "id": "620140d0",
   "metadata": {},
   "outputs": [
    {
     "name": "stdout",
     "output_type": "stream",
     "text": [
      "9\n"
     ]
    }
   ],
   "source": [
    "def number_plus_5(number):\n",
    "    print(number+5)\n",
    "\n",
    "number_plus_5(4)"
   ]
  },
  {
   "cell_type": "code",
   "execution_count": 14,
   "id": "42e31d8f",
   "metadata": {},
   "outputs": [
    {
     "name": "stdout",
     "output_type": "stream",
     "text": [
      "625\n",
      "1024\n"
     ]
    }
   ],
   "source": [
    "def number_power_custom(number,power):\n",
    "    print(number**power)\n",
    "\n",
    "number_power_custom(5,4)\n",
    "number_power_custom(2,10)"
   ]
  },
  {
   "cell_type": "code",
   "execution_count": 15,
   "id": "c4989a49",
   "metadata": {},
   "outputs": [
    {
     "name": "stdout",
     "output_type": "stream",
     "text": [
      "30\n"
     ]
    }
   ],
   "source": [
    "def number_args(*number):\n",
    "    print(number[0]*number[1])\n",
    "\n",
    "number_args(5,6,1,2,8)"
   ]
  },
  {
   "cell_type": "code",
   "execution_count": 16,
   "id": "ac61fe5f",
   "metadata": {},
   "outputs": [
    {
     "name": "stdout",
     "output_type": "stream",
     "text": [
      "40\n"
     ]
    }
   ],
   "source": [
    "def number_args(*number):\n",
    "    print(number[0]*number[4])\n",
    "\n",
    "number_args(5,6,1,2,8)"
   ]
  },
  {
   "cell_type": "markdown",
   "id": "b88f2bcf",
   "metadata": {},
   "source": [
    "Keyword Argument shown below"
   ]
  },
  {
   "cell_type": "code",
   "execution_count": 19,
   "id": "f984d064",
   "metadata": {},
   "outputs": [
    {
     "name": "stdout",
     "output_type": "stream",
     "text": [
      "243\n"
     ]
    }
   ],
   "source": [
    "def number_power_custom(number,power):\n",
    "    print(number**power)\n",
    "\n",
    "number_power_custom(power = 5, number =3)"
   ]
  },
  {
   "cell_type": "code",
   "execution_count": 25,
   "id": "64dace05",
   "metadata": {},
   "outputs": [],
   "source": [
    "def number_kwarg(**number):\n",
    "    print('My number is: ' + number['integer'] + ' and my my other number is: ' + number['integer2'])"
   ]
  },
  {
   "cell_type": "code",
   "execution_count": 26,
   "id": "4e7b253a",
   "metadata": {},
   "outputs": [
    {
     "name": "stdout",
     "output_type": "stream",
     "text": [
      "My number is: 2309 and my my other number is: 12901\n"
     ]
    }
   ],
   "source": [
    "number_kwarg(integer = '2309', integer2 = '12901')"
   ]
  }
 ],
 "metadata": {
  "kernelspec": {
   "display_name": "Python 3 (ipykernel)",
   "language": "python",
   "name": "python3"
  },
  "language_info": {
   "codemirror_mode": {
    "name": "ipython",
    "version": 3
   },
   "file_extension": ".py",
   "mimetype": "text/x-python",
   "name": "python",
   "nbconvert_exporter": "python",
   "pygments_lexer": "ipython3",
   "version": "3.10.9"
  }
 },
 "nbformat": 4,
 "nbformat_minor": 5
}
